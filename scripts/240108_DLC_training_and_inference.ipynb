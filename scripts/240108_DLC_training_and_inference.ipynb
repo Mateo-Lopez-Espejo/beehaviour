{
 "cells": [
  {
   "cell_type": "code",
   "execution_count": null,
   "outputs": [],
   "source": [
    "import pathlib as pl\n",
    "import deeplabcut as dlc\n",
    "import matplotlib\n",
    "matplotlib.use('Agg')"
   ],
   "metadata": {
    "collapsed": false
   },
   "id": "fab051aa7be5f5c1"
  },
  {
   "cell_type": "code",
   "execution_count": 24,
   "outputs": [
    {
     "name": "stdout",
     "output_type": "stream",
     "text": [
      "found 100 videos in the input directory: /home/mateo/motion/zig_02/curated\n",
      "found 29 corresponding labels in the output directory: /home/mateo/code/beehaviour/data/bottom_view_inference\n",
      "71 videos lack labels\n",
      "['/home/mateo/motion/zig_02/curated/2024-02-21T14:28:50_1.mp4', '/home/mateo/motion/zig_02/curated/2024-02-21T14:23:42_1.mp4', '/home/mateo/motion/zig_02/curated/2024-02-21T14:24:52_2.mp4', '/home/mateo/motion/zig_02/curated/2024-02-21T14:00:56_1.mp4', '/home/mateo/motion/zig_02/curated/2024-02-21T14:06:13_1.mp4', '/home/mateo/motion/zig_02/curated/2024-02-21T14:23:18_1.mp4', '/home/mateo/motion/zig_02/curated/2024-02-21T14:40:34_1.mp4', '/home/mateo/motion/zig_02/curated/2024-02-21T14:08:01_1.mp4', '/home/mateo/motion/zig_02/curated/2024-02-21T14:12:31_1.mp4', '/home/mateo/motion/zig_02/curated/2024-02-21T14:28:20_1.mp4', '/home/mateo/motion/zig_02/curated/2024-02-21T14:10:50_1.mp4', '/home/mateo/motion/zig_02/curated/2024-02-21T14:21:50_1.mp4', '/home/mateo/motion/zig_02/curated/2024-02-21T14:42:58_1.mp4', '/home/mateo/motion/zig_02/curated/2024-02-21T14:08:30_1.mp4', '/home/mateo/motion/zig_02/curated/2024-02-21T14:39:20_1.mp4', '/home/mateo/motion/zig_02/curated/2024-02-21T14:54:33_1.mp4', '/home/mateo/motion/zig_02/curated/2024-02-21T14:02:33_1.mp4', '/home/mateo/motion/zig_02/curated/2024-02-21T14:03:39_1.mp4', '/home/mateo/motion/zig_02/curated/2024-02-21T14:42:16_1.mp4', '/home/mateo/motion/zig_02/curated/2024-02-21T14:09:24_2.mp4', '/home/mateo/motion/zig_02/curated/2024-02-21T14:48:48_1.mp4', '/home/mateo/motion/zig_02/curated/2024-02-21T14:38:56_1.mp4', '/home/mateo/motion/zig_02/curated/2024-02-21T14:02:21_1.mp4', '/home/mateo/motion/zig_02/curated/2024-02-21T14:53:57_1.mp4', '/home/mateo/motion/zig_02/curated/2024-02-21T14:09:24_1.mp4', '/home/mateo/motion/zig_02/curated/2024-02-21T14:24:52_1.mp4', '/home/mateo/motion/zig_02/curated/2024-02-21T14:24:52_3.mp4', '/home/mateo/motion/zig_02/curated/2024-02-21T14:37:09_1.mp4', '/home/mateo/motion/zig_02/curated/2024-02-21T14:48:48_2.mp4', '/home/mateo/motion/zig_02/curated/2024-02-21T14:29:12_1.mp4', '/home/mateo/motion/zig_02/curated/2024-02-21T14:44:58_1.mp4', '/home/mateo/motion/zig_02/curated/2024-02-21T14:03:13_1.mp4', '/home/mateo/motion/zig_02/curated/2024-02-21T14:20:29_1.mp4', '/home/mateo/motion/zig_02/curated/2024-02-21T14:56:25_1.mp4', '/home/mateo/motion/zig_02/curated/2024-02-21T14:53:46_1.mp4', '/home/mateo/motion/zig_02/curated/2024-02-21T13:47:10_1.mp4', '/home/mateo/motion/zig_02/curated/2024-02-21T14:24:33_1.mp4', '/home/mateo/motion/zig_02/curated/2024-02-21T14:26:58_2.mp4', '/home/mateo/motion/zig_02/curated/2024-02-21T14:49:54_1.mp4', '/home/mateo/motion/zig_02/curated/2024-02-21T14:25:33_1.mp4', '/home/mateo/motion/zig_02/curated/2024-02-21T14:06:57_1.mp4', '/home/mateo/motion/zig_02/curated/2024-02-21T14:15:58_1.mp4', '/home/mateo/motion/zig_02/curated/2024-02-21T14:28:01_1.mp4', '/home/mateo/motion/zig_02/curated/2024-02-21T14:03:04_1.mp4', '/home/mateo/motion/zig_02/curated/2024-02-21T14:53:30_1.mp4', '/home/mateo/motion/zig_02/curated/2024-02-21T14:26:58_1.mp4', '/home/mateo/motion/zig_02/curated/2024-02-21T14:09:50_1.mp4', '/home/mateo/motion/zig_02/curated/2024-02-21T14:31:49_1.mp4', '/home/mateo/motion/zig_02/curated/2024-02-21T14:34:42_1.mp4', '/home/mateo/motion/zig_02/curated/2024-02-21T13:59:33_1.mp4', '/home/mateo/motion/zig_02/curated/2024-02-21T14:35:06_1.mp4', '/home/mateo/motion/zig_02/curated/2024-02-21T14:28:34_1.mp4', '/home/mateo/motion/zig_02/curated/2024-02-21T14:15:36_1.mp4', '/home/mateo/motion/zig_02/curated/2024-02-21T13:47:54_1.mp4', '/home/mateo/motion/zig_02/curated/2024-02-21T14:34:07_1.mp4', '/home/mateo/motion/zig_02/curated/2024-02-21T14:02:05_1.mp4', '/home/mateo/motion/zig_02/curated/2024-02-21T13:48:22_1.mp4', '/home/mateo/motion/zig_02/curated/2024-02-21T14:12:31_2.mp4', '/home/mateo/motion/zig_02/curated/2024-02-21T14:04:15_1.mp4', '/home/mateo/motion/zig_02/curated/2024-02-21T14:52:45_1.mp4', '/home/mateo/motion/zig_02/curated/2024-02-21T14:54:45_1.mp4', '/home/mateo/motion/zig_02/curated/2024-02-21T14:20:01_1.mp4', '/home/mateo/motion/zig_02/curated/2024-02-21T14:40:34_2.mp4', '/home/mateo/motion/zig_02/curated/2024-02-21T14:47:32_1.mp4', '/home/mateo/motion/zig_02/curated/2024-02-21T13:49:01_1.mp4', '/home/mateo/motion/zig_02/curated/2024-02-21T14:05:00_1.mp4', '/home/mateo/motion/zig_02/curated/2024-02-21T14:14:45_1.mp4', '/home/mateo/motion/zig_02/curated/2024-02-21T14:07:25_1.mp4', '/home/mateo/motion/zig_02/curated/2024-02-21T14:10:50_2.mp4', '/home/mateo/motion/zig_02/curated/2024-02-21T14:46:56_1.mp4', '/home/mateo/motion/zig_02/curated/2024-02-21T14:13:15_1.mp4']\n"
     ]
    }
   ],
   "source": [
    "# all videos to label\n",
    "input_path = pl.Path(\"/home/mateo/motion/zig_02/curated\")\n",
    "output_path = pl.Path(\"/home/mateo/code/beehaviour/data/bottom_view_inference\")\n",
    "\n",
    "all_videos = set(input_path.glob(\"*.mp4\"))\n",
    "print(f\"found {len(all_videos)} videos in the input directory: {input_path}\")\n",
    "\n",
    "# find_ already labeled videos\n",
    "ready_videos = {\n",
    "    (input_path / v.stem.split(\"DLC\")[0]).with_suffix(\".mp4\") \n",
    "    for v in output_path.glob(\"*_filtered.h5\")\n",
    "} \n",
    "print(f\"found {len(ready_videos)} corresponding labels in the output directory: {output_path}\")\n",
    "\n",
    "# silly need for strings\n",
    "todo_videos = [str(pp) for pp in all_videos.difference(ready_videos)]\n",
    "print(f\"{len(todo_videos)} videos lack labels\")\n",
    "print(todo_videos)"
   ],
   "metadata": {
    "collapsed": false,
    "ExecuteTime": {
     "end_time": "2024-02-22T18:12:29.995741073Z",
     "start_time": "2024-02-22T18:12:29.954159073Z"
    }
   },
   "id": "39bc781be1c9bb6c"
  },
  {
   "cell_type": "code",
   "execution_count": null,
   "outputs": [],
   "source": [
    "config_path = \"/home/mateo/code/beehaviour/data/bottom_view-Mateo-2024-02-20/config.yaml\"\n",
    "\n",
    "# todo set a sensible output path since this is the data that goes to VAME\n",
    "dlc.analyze_videos(\n",
    "    config_path,\n",
    "    todo_videos,\n",
    "    gputouse=0, save_as_csv=False,\n",
    "    destfolder=str(output_path),\n",
    "    dynamic=(False, .5, 10)\n",
    ")\n",
    "\n",
    "# todo figure out is sarima filterring is a better option and how to use it.\n",
    "# remove low probability points\n",
    "dlc.filterpredictions(\n",
    "    config_path, video=todo_videos,\n",
    "    destfolder=str(output_path),\n",
    "    save_as_csv=False\n",
    ")"
   ],
   "metadata": {
    "collapsed": false
   },
   "id": "b888b0df738b2e1d"
  },
  {
   "cell_type": "code",
   "execution_count": null,
   "outputs": [],
   "source": [
    "# check filtering\n",
    "dlc.plot_trajectories(\n",
    "    config_path, todo_videos,\n",
    "    filtered=True,\n",
    "    destfolder=str(output_path),\n",
    "    )\n",
    "\n",
    "dlc.create_labeled_video(\n",
    "    config=config_path,\n",
    "    videos=todo_videos,\n",
    "    save_frames=False, trailpoints=3,\n",
    "    draw_skeleton=True, skeleton_color='black',\n",
    "    filtered=True,\n",
    "    destfolder=str(output_path),\n",
    ")"
   ],
   "metadata": {
    "collapsed": false
   },
   "id": "c76b40fad932bd1b"
  }
 ],
 "metadata": {
  "kernelspec": {
   "display_name": "Python 3",
   "language": "python",
   "name": "python3"
  },
  "language_info": {
   "codemirror_mode": {
    "name": "ipython",
    "version": 2
   },
   "file_extension": ".py",
   "mimetype": "text/x-python",
   "name": "python",
   "nbconvert_exporter": "python",
   "pygments_lexer": "ipython2",
   "version": "2.7.6"
  }
 },
 "nbformat": 4,
 "nbformat_minor": 5
}
