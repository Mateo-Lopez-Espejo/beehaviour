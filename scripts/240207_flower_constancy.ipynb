{
 "cells": [
  {
   "cell_type": "code",
   "execution_count": 1,
   "id": "a29b8b4f919cce7f",
   "metadata": {
    "collapsed": true,
    "ExecuteTime": {
     "end_time": "2024-02-14T20:07:51.765224553Z",
     "start_time": "2024-02-14T20:07:51.435489754Z"
    }
   },
   "outputs": [],
   "source": [
    "import pandas as pd\n",
    "%load_ext autoreload\n",
    "%autoreload 2"
   ]
  },
  {
   "cell_type": "code",
   "execution_count": 2,
   "outputs": [],
   "source": [
    "import numpy as np\n",
    "\n",
    "import plotly.express as px \n",
    "import scipy.stats as sst\n",
    "\n",
    "import my_paths as mp\n",
    "\n",
    "from src.metrics import get_flower_constancy_index"
   ],
   "metadata": {
    "collapsed": false,
    "ExecuteTime": {
     "end_time": "2024-02-14T20:07:53.050495696Z",
     "start_time": "2024-02-14T20:07:51.767107276Z"
    }
   },
   "id": "initial_id"
  },
  {
   "cell_type": "markdown",
   "source": [
    "# Floral constancy\n",
    "Calculated for different shapes of flowers. This figures anchors everything to a theoretical background.\n",
    "\n",
    "Furthemore for the sake of organizing data for long term storage and future proof, makes a \n",
    "first attmept at a flower ontology to clasify the experiments done and to be done.\n",
    "\n",
    "\n",
    "### Synthetic data\n",
    "since I dont have yet some data, and I would like to starte designing my figures\n",
    "\n",
    "ideally the input data has a very simple shape, a sequences of events that relate one of n bees, interacting with one of\n",
    "m flowers\n",
    "\n",
    "some extra metadata can be present, like the date of the data aquisition\n",
    "\n",
    "aditionaly the m flowers are defined by some extra parameters like internal shape, direction, color, reward volumen and\n",
    "reward concentration.\n",
    "this second might become a table on its own, but for now it will be extra columns in the main table\n",
    "\n",
    "finally I need to specify which camera is attached to each flower so I can relate bees, and events to video captures.\n",
    "\n"
   ],
   "metadata": {
    "collapsed": false
   },
   "id": "d80ebd4207419d4d"
  },
  {
   "cell_type": "code",
   "execution_count": 3,
   "outputs": [
    {
     "name": "stdout",
     "output_type": "stream",
     "text": [
      "   id_flower  color sinuosity direction\n",
      "0          0   blue    bend_1     right\n",
      "1          1  white    bend_1      left\n",
      "2          2   blue     zig_1     right\n",
      "3          3  white     zig_1      left\n"
     ]
    }
   ],
   "source": [
    "# todo think about the ontology of flowers\n",
    "#  for example, what to do with flower reward\n",
    "\n",
    "flower_df = pd.DataFrame([\n",
    "    {'id_flower':0, 'color': 'blue', 'sinuosity': 'bend_1', 'direction': 'right'},\n",
    "    {'id_flower':1, 'color': 'white', 'sinuosity': 'bend_1', 'direction': 'left'},\n",
    "    {'id_flower':2, 'color': 'blue', 'sinuosity': 'zig_1', 'direction': 'right'},\n",
    "    {'id_flower':3, 'color': 'white', 'sinuosity': 'zig_1', 'direction': 'left'}\n",
    "])\n",
    "\n",
    "print(flower_df.head())"
   ],
   "metadata": {
    "collapsed": false,
    "ExecuteTime": {
     "end_time": "2024-02-14T20:07:53.092136195Z",
     "start_time": "2024-02-14T20:07:53.057815751Z"
    }
   },
   "id": "e8f044de958a37d1"
  },
  {
   "cell_type": "code",
   "execution_count": 4,
   "outputs": [
    {
     "name": "stdout",
     "output_type": "stream",
     "text": [
      "   bee  id_flower\n",
      "0    0          3\n",
      "1    7          2\n",
      "2    6          2\n",
      "3    4          3\n",
      "4    4          0\n"
     ]
    }
   ],
   "source": [
    "# Creates the synthetic data frame similar to what it might look \n",
    "# when acquiring results from experiments.\n",
    "\n",
    "rng = np.random.default_rng(seed=42)\n",
    "n_bees = 10\n",
    "n_events = 1000 #if 100 breaks, check\n",
    "\n",
    "visit_df = pd.DataFrame(\n",
    "    {'bee': rng.choice(n_bees, n_events),\n",
    "     'id_flower': rng.choice(\n",
    "         flower_df.id_flower.unique().tolist(), n_events\n",
    "     )}\n",
    ")\n",
    "for col in visit_df.columns:\n",
    "    visit_df[col] = visit_df[col].astype(\"int\")\n",
    "\n",
    "print(visit_df.head())"
   ],
   "metadata": {
    "collapsed": false,
    "ExecuteTime": {
     "end_time": "2024-02-14T20:07:53.156632848Z",
     "start_time": "2024-02-14T20:07:53.098517173Z"
    }
   },
   "id": "de4ad68ddef1a3a6"
  },
  {
   "cell_type": "code",
   "execution_count": 5,
   "outputs": [
    {
     "name": "stdout",
     "output_type": "stream",
     "text": [
      "   index  bee  id_flower  color sinuosity direction\n",
      "0      0    0          3  white     zig_1      left\n",
      "1      1    7          2   blue     zig_1     right\n",
      "2      2    6          2   blue     zig_1     right\n",
      "3      3    4          3  white     zig_1      left\n",
      "4      4    4          0   blue    bend_1     right\n"
     ]
    }
   ],
   "source": [
    "# merge relevant data about flowers\n",
    "# care with how=\"left\" to preserve the order of the visit_df\n",
    "\n",
    "working_df = pd.merge(\n",
    "    left = visit_df.reset_index(), right= flower_df,\n",
    "    how='left', on = 'id_flower'\n",
    ")\n",
    "print(working_df.head())"
   ],
   "metadata": {
    "collapsed": false,
    "ExecuteTime": {
     "end_time": "2024-02-14T20:07:53.209563972Z",
     "start_time": "2024-02-14T20:07:53.144628252Z"
    }
   },
   "id": "3398e5dca0b0b677"
  },
  {
   "cell_type": "markdown",
   "source": [
    "# flower constancy\n",
    "as stated in Waser 1986\n",
    "\n",
    "firist define the transition frequency matrix between flowers, as if it was a markov chain\n",
    "\n",
    "\n",
    "| flower | blue | white |\n",
    "|--------|------|-------|\n",
    "| Blue   | A    | B     |\n",
    "| White  | C    | D     |\n",
    "\n",
    "\n",
    "$ CONS = \\frac{\\sqrt{AD} - \\sqrt{BC}}{\\sqrt{AD} + \\sqrt{BC}} $\n",
    "\n",
    "Jacobson (), "
   ],
   "metadata": {
    "collapsed": false
   },
   "id": "9cff258b3ec9d630"
  },
  {
   "cell_type": "code",
   "execution_count": 6,
   "outputs": [
    {
     "name": "stdout",
     "output_type": "stream",
     "text": [
      "   bee sinuosity  flower_constancy\n",
      "0    0    bend_1         -0.127017\n",
      "1    0     zig_1          0.223178\n",
      "2    1    bend_1         -0.040000\n",
      "3    1     zig_1         -0.218975\n",
      "4    2    bend_1         -0.171573\n"
     ]
    }
   ],
   "source": [
    "toplot = working_df.copy()\n",
    "toplot = toplot.groupby([\"bee\",\"sinuosity\"]).agg(\n",
    "    flower_constancy=('color', get_flower_constancy_index),\n",
    ").reset_index()\n",
    "print(toplot.head())"
   ],
   "metadata": {
    "collapsed": false,
    "ExecuteTime": {
     "end_time": "2024-02-14T20:07:53.539061224Z",
     "start_time": "2024-02-14T20:07:53.188721394Z"
    }
   },
   "id": "da3d85a739267f68"
  },
  {
   "cell_type": "code",
   "execution_count": 7,
   "outputs": [
    {
     "name": "stdout",
     "output_type": "stream",
     "text": [
      "RanksumsResult(statistic=-0.11338934190276817, pvalue=0.9097218891455553)\n",
      "bend_1: WilcoxonResult(statistic=10.0, pvalue=0.083984375)\n",
      "bend_1: Ttest_1sampResult(statistic=-1.934608272571914, pvalue=0.08504173579832949)\n",
      "zig_1: WilcoxonResult(statistic=18.0, pvalue=0.375)\n",
      "zig_1: Ttest_1sampResult(statistic=-1.0562954091359789, pvalue=0.3183614490914747)\n"
     ]
    },
    {
     "data": {
      "image/jpeg": "[encoded data removed]"
     },
     "metadata": {},
     "output_type": "display_data"
    }
   ],
   "source": [
    "# statistical comparison beetween pairs of flowers\n",
    "pair_diff_stat = sst.ranksums(\n",
    "    x = toplot.query(\"sinuosity == 'bend_1'\").flower_constancy,\n",
    "    y = toplot.query(\"sinuosity == 'zig_1'\").flower_constancy\n",
    ")\n",
    "print(pair_diff_stat)\n",
    "\n",
    "# statistical conmparision between each flower and zero\n",
    "for sinu in toplot.sinuosity.unique():\n",
    "    fwr_stat = sst.wilcoxon(\n",
    "        x=toplot.query(f\"sinuosity == '{sinu}'\").flower_constancy\n",
    "    )\n",
    "    print(f\"{sinu}: {fwr_stat}\")\n",
    "    \n",
    "    # perhaps I dont need non parametric?\n",
    "    fwr_stat = sst.ttest_1samp(\n",
    "        a=toplot.query(f\"sinuosity == '{sinu}'\").flower_constancy,\n",
    "        popmean=0\n",
    "    )\n",
    "    print(f\"{sinu}: {fwr_stat}\")\n",
    "\n",
    "##### plotting #####\n",
    "\n",
    "fig = px.box(\n",
    "    toplot, x='sinuosity', y='flower_constancy', points='all',\n",
    ")\n",
    "\n",
    "fig.update_traces(width=0.3,\n",
    "                  marker_size=2,\n",
    "                  line_width=2)\n",
    "\n",
    "fig.update_layout(\n",
    "    template=\"simple_white\",\n",
    "    width=96 * 3, height=96 * 3,\n",
    "    margin=dict(l=40, r=10, t=10, b=20),\n",
    "    xaxis=dict(title=dict(text='tunel shape', standoff=0)),\n",
    "    yaxis=dict(range=[-1, 1],\n",
    "               title=dict(text='flower constancy index', standoff=0)),\n",
    "    violingap=0, violingroupgap=0, violinmode='overlay',\n",
    ")\n",
    "\n",
    "fig.show(renderer='jpeg', scale=1)\n",
    "fig.write_image((mp.fig_path / \"floral_constancy\").with_suffix(\".svg\"))\n"
   ],
   "metadata": {
    "collapsed": false,
    "ExecuteTime": {
     "end_time": "2024-02-14T20:07:55.233996525Z",
     "start_time": "2024-02-14T20:07:53.540097555Z"
    }
   },
   "id": "920d97389ce3dce9"
  }
 ],
 "metadata": {
  "kernelspec": {
   "display_name": "Python 3",
   "language": "python",
   "name": "python3"
  },
  "language_info": {
   "codemirror_mode": {
    "name": "ipython",
    "version": 2
   },
   "file_extension": ".py",
   "mimetype": "text/x-python",
   "name": "python",
   "nbconvert_exporter": "python",
   "pygments_lexer": "ipython2",
   "version": "2.7.6"
  }
 },
 "nbformat": 4,
 "nbformat_minor": 5
}
