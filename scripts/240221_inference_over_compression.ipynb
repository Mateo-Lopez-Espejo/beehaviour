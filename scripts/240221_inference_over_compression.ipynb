{
 "cells": [
  {
   "cell_type": "code",
   "execution_count": 2,
   "id": "initial_id",
   "metadata": {
    "collapsed": true,
    "ExecuteTime": {
     "end_time": "2024-02-22T05:02:29.112290320Z",
     "start_time": "2024-02-22T05:02:29.085659881Z"
    }
   },
   "outputs": [
    {
     "name": "stdout",
     "output_type": "stream",
     "text": [
      "The autoreload extension is already loaded. To reload it, use:\n",
      "  %reload_ext autoreload\n"
     ]
    }
   ],
   "source": [
    "%load_ext autoreload\n",
    "%autoreload 2"
   ]
  },
  {
   "cell_type": "code",
   "execution_count": 3,
   "outputs": [
    {
     "name": "stderr",
     "output_type": "stream",
     "text": [
      "2024-02-22 00:02:29.702999: I tensorflow/core/platform/cpu_feature_guard.cc:193] This TensorFlow binary is optimized with oneAPI Deep Neural Network Library (oneDNN) to use the following CPU instructions in performance-critical operations:  SSE4.1 SSE4.2 AVX AVX2 FMA\n",
      "To enable them in other operations, rebuild TensorFlow with the appropriate compiler flags.\n"
     ]
    },
    {
     "name": "stdout",
     "output_type": "stream",
     "text": [
      "Loading DLC 2.3.5...\n"
     ]
    }
   ],
   "source": [
    "from pathlib import Path\n",
    "\n",
    "import deeplabcut as dlc\n",
    "import ffmpeg\n",
    "\n",
    "import my_paths as mp"
   ],
   "metadata": {
    "collapsed": false,
    "ExecuteTime": {
     "end_time": "2024-02-22T05:02:34.535393193Z",
     "start_time": "2024-02-22T05:02:29.653294169Z"
    }
   },
   "id": "d5ab3dfcfb8668a3"
  },
  {
   "cell_type": "markdown",
   "source": [
    "# Video compressio\n",
    "is very desirable, however, it might change the results of deeplabcut performance.\n",
    "\n",
    "Here I am trying to determine what codec and level of compressios work fine with data analysis"
   ],
   "metadata": {
    "collapsed": false
   },
   "id": "a6080251f68607c3"
  },
  {
   "cell_type": "code",
   "execution_count": 4,
   "outputs": [],
   "source": [
    "test_video_path = mp.data_path / \"video_compression\"\n",
    "input_path = test_video_path / \"input\"\n",
    "output_path = test_video_path / \"output\"\n",
    "config_path = mp.dlc_path / \"config.yaml\""
   ],
   "metadata": {
    "collapsed": false,
    "ExecuteTime": {
     "end_time": "2024-02-22T05:02:42.515862535Z",
     "start_time": "2024-02-22T05:02:42.454534019Z"
    }
   },
   "id": "3a207b811c4a9d37"
  },
  {
   "cell_type": "code",
   "execution_count": 8,
   "outputs": [
    {
     "name": "stderr",
     "output_type": "stream",
     "text": [
      "ffmpeg version 6.0 Copyright (c) 2000-2023 the FFmpeg developers\n",
      "  built with gcc 12.3.0 (conda-forge gcc 12.3.0-0)\n",
      "  configuration: --prefix=/home/conda/feedstock_root/build_artifacts/ffmpeg_1687154882217/_h_env_placehold_placehold_placehold_placehold_placehold_placehold_placehold_placehold_placehold_placehold_placehold_placehold_placehold_placehold_placehold_placehold_placehold_placehold_plac --cc=/home/conda/feedstock_root/build_artifacts/ffmpeg_1687154882217/_build_env/bin/x86_64-conda-linux-gnu-cc --cxx=/home/conda/feedstock_root/build_artifacts/ffmpeg_1687154882217/_build_env/bin/x86_64-conda-linux-gnu-c++ --nm=/home/conda/feedstock_root/build_artifacts/ffmpeg_1687154882217/_build_env/bin/x86_64-conda-linux-gnu-nm --ar=/home/conda/feedstock_root/build_artifacts/ffmpeg_1687154882217/_build_env/bin/x86_64-conda-linux-gnu-ar --disable-doc --disable-openssl --enable-demuxer=dash --enable-hardcoded-tables --enable-libfreetype --enable-libfontconfig --enable-libopenh264 --enable-libdav1d --enable-gnutls --enable-libmp3lame --enable-libvpx --enable-libass --enable-pthreads --enable-vaapi --enable-gpl --enable-libx264 --enable-libx265 --enable-libaom --enable-libsvtav1 --enable-libxml2 --enable-pic --enable-shared --disable-static --enable-version3 --enable-zlib --enable-libopus --pkg-config=/home/conda/feedstock_root/build_artifacts/ffmpeg_1687154882217/_build_env/bin/pkg-config\n",
      "  libavutil      58.  2.100 / 58.  2.100\n",
      "  libavcodec     60.  3.100 / 60.  3.100\n",
      "  libavformat    60.  3.100 / 60.  3.100\n",
      "  libavdevice    60.  1.100 / 60.  1.100\n",
      "  libavfilter     9.  3.100 /  9.  3.100\n",
      "  libswscale      7.  1.100 /  7.  1.100\n",
      "  libswresample   4. 10.100 /  4. 10.100\n",
      "  libpostproc    57.  1.100 / 57.  1.100\n",
      "Input #0, mov,mp4,m4a,3gp,3g2,mj2, from '/home/mateo/code/beehaviour/data/video_compression/input/mjpeg.mp4':\n",
      "  Metadata:\n",
      "    major_brand     : isom\n",
      "    minor_version   : 512\n",
      "    compatible_brands: isomiso2mp41\n",
      "    encoder         : Lavf60.3.100\n",
      "  Duration: 00:00:13.09, start: 0.000000, bitrate: 35727 kb/s\n",
      "  Stream #0:0[0x1](und): Video: mjpeg (Baseline) (mp4v / 0x7634706D), yuvj422p(pc, bt470bg/unknown/unknown), 1280x720, 35715 kb/s, 120.65 fps, 1000k tbr, 1000k tbn (default)\n",
      "    Metadata:\n",
      "      handler_name    : VideoHandler\n",
      "      vendor_id       : [0][0][0][0]\n",
      "Stream mapping:\n",
      "  Stream #0:0 -> #0:0 (mjpeg (native) -> hevc (libx265))\n",
      "Press [q] to stop, [?] for help\n",
      "x265 [info]: HEVC encoder version 3.5+1-f0c1022b6\n",
      "x265 [info]: build info [Linux][GCC 10.3.0][64 bit] 8bit+10bit+12bit\n",
      "x265 [info]: using cpu capabilities: MMX2 SSE2Fast LZCNT SSSE3 SSE4.2 AVX FMA3 BMI2 AVX2\n",
      "x265 [info]: Main 4:2:2 10 profile, Level-4.1 (Main tier)\n",
      "x265 [info]: Thread pool created using 4 threads\n",
      "x265 [info]: Slices                              : 1\n",
      "x265 [info]: frame threads / pool features       : 2 / wpp(12 rows)\n",
      "x265 [info]: Coding QT: max CU size, min CU size : 64 / 8\n",
      "x265 [info]: Residual QT: max TU size, max depth : 32 / 1 inter / 1 intra\n",
      "x265 [info]: ME / range / subpel / merge         : hex / 57 / 2 / 2\n",
      "x265 [info]: Keyframe min / max / scenecut / bias  : 25 / 250 / 40 / 5.00 \n",
      "x265 [info]: Lookahead / bframes / badapt        : 15 / 4 / 0\n",
      "x265 [info]: b-pyramid / weightp / weightb       : 1 / 1 / 0\n",
      "x265 [info]: References / ref-limit  cu / depth  : 3 / on / on\n",
      "x265 [info]: AQ: mode / str / qg-size / cu-tree  : 2 / 1.0 / 32 / 1\n",
      "x265 [info]: Rate Control / qCompress            : CRF-19.0 / 0.60\n",
      "x265 [info]: tools: rd=2 psy-rd=2.00 rskip mode=1 signhide tmvp fast-intra\n",
      "x265 [info]: tools: strong-intra-smoothing lslices=4 deblock sao\n",
      "Output #0, mp4, to '/home/mateo/code/beehaviour/data/video_compression/input/python_ffmpeg_265_19.mp4':\n",
      "  Metadata:\n",
      "    major_brand     : isom\n",
      "    minor_version   : 512\n",
      "    compatible_brands: isomiso2mp41\n",
      "    encoder         : Lavf60.3.100\n",
      "  Stream #0:0(und): Video: hevc (hev1 / 0x31766568), yuvj422p(pc, bt470bg/unknown/unknown, progressive), 1280x720, q=2-31, 120 fps, 15360 tbn (default)\n",
      "    Metadata:\n",
      "      handler_name    : VideoHandler\n",
      "      vendor_id       : [0][0][0][0]\n",
      "      encoder         : Lavc60.3.100 libx265\n",
      "    Side data:\n",
      "      cpb: bitrate max/min/avg: 0/0/0 buffer size: 0 vbv_delay: N/A\n",
      "frame= 1572 fps= 28 q=25.8 Lsize=    3059kB time=00:00:13.07 bitrate=1916.8kbits/s dup=0 drop=7 speed=0.232x    \n",
      "video:3039kB audio:0kB subtitle:0kB other streams:0kB global headers:2kB muxing overhead: 0.682129%\n",
      "x265 [info]: frame I:      7, Avg QP:21.92  kb/s: 21017.55\n",
      "x265 [info]: frame P:    309, Avg QP:23.31  kb/s: 5945.25 \n",
      "x265 [info]: frame B:   1256, Avg QP:28.05  kb/s: 793.69  \n",
      "x265 [info]: Weighted P-Frames: Y:0.0% UV:0.0%\n",
      "x265 [info]: consecutive B-frames: 0.6% 0.0% 0.0% 0.0% 99.4% \n",
      "\n",
      "encoded 1572 frames in 56.27s (27.93 fps), 1896.36 kb/s, Avg QP:27.09\n"
     ]
    },
    {
     "data": {
      "text/plain": "(None, None)"
     },
     "execution_count": 8,
     "metadata": {},
     "output_type": "execute_result"
    }
   ],
   "source": [
    "(\n",
    "    ffmpeg\n",
    "    .input(str(input_path / 'mjpeg.mp4'))\n",
    "    .output(str(input_path/ 'python_ffmpeg_265_19.mp4'), vcodec='libx265', crf=19, preset='fast', r=120)\n",
    "    .run()\n",
    ")"
   ],
   "metadata": {
    "collapsed": false,
    "ExecuteTime": {
     "end_time": "2024-02-22T05:08:08.214087020Z",
     "start_time": "2024-02-22T05:07:11.757315771Z"
    }
   },
   "id": "88cfc51c60ee400c"
  },
  {
   "cell_type": "code",
   "execution_count": 13,
   "outputs": [
    {
     "name": "stdout",
     "output_type": "stream",
     "text": [
      "Using snapshot-140000 for model /home/mateo/code/beehaviour/data/bottom_view-Mateo-2024-02-20/dlc-models/iteration-0/bottom_viewFeb20-trainset95shuffle1\n"
     ]
    },
    {
     "name": "stderr",
     "output_type": "stream",
     "text": [
      "/home/mateo/miniconda3/envs/deeplabcut/lib/python3.8/site-packages/tensorflow/python/keras/engine/base_layer_v1.py:1694: UserWarning: `layer.apply` is deprecated and will be removed in a future version. Please use `layer.__call__` method instead.\n",
      "  warnings.warn('`layer.apply` is deprecated and '\n",
      "2024-02-21 23:38:39.495460: I tensorflow/compiler/xla/stream_executor/cuda/cuda_gpu_executor.cc:981] successful NUMA node read from SysFS had negative value (-1), but there must be at least one NUMA node, so returning NUMA node zero\n",
      "2024-02-21 23:38:39.495948: I tensorflow/compiler/xla/stream_executor/cuda/cuda_gpu_executor.cc:981] successful NUMA node read from SysFS had negative value (-1), but there must be at least one NUMA node, so returning NUMA node zero\n",
      "2024-02-21 23:38:39.496225: I tensorflow/compiler/xla/stream_executor/cuda/cuda_gpu_executor.cc:981] successful NUMA node read from SysFS had negative value (-1), but there must be at least one NUMA node, so returning NUMA node zero\n",
      "2024-02-21 23:38:39.496541: I tensorflow/compiler/xla/stream_executor/cuda/cuda_gpu_executor.cc:981] successful NUMA node read from SysFS had negative value (-1), but there must be at least one NUMA node, so returning NUMA node zero\n",
      "2024-02-21 23:38:39.496864: I tensorflow/compiler/xla/stream_executor/cuda/cuda_gpu_executor.cc:981] successful NUMA node read from SysFS had negative value (-1), but there must be at least one NUMA node, so returning NUMA node zero\n",
      "2024-02-21 23:38:39.497043: I tensorflow/core/common_runtime/gpu/gpu_device.cc:1613] Created device /job:localhost/replica:0/task:0/device:GPU:0 with 6973 MB memory:  -> device: 0, name: NVIDIA GeForce GTX 1070, pci bus id: 0000:07:00.0, compute capability: 6.1\n"
     ]
    },
    {
     "name": "stdout",
     "output_type": "stream",
     "text": [
      "Starting to analyze %  /home/mateo/code/beehaviour/data/video_compression/input/h264.mp4\n",
      "Loading  /home/mateo/code/beehaviour/data/video_compression/input/h264.mp4\n",
      "Duration of video [s]:  0.0 , recorded with  1000000.0 fps!\n",
      "Overall # of frames:  1579  found with (before cropping) frame dimensions:  1280 720\n",
      "Starting to extract posture\n"
     ]
    },
    {
     "name": "stderr",
     "output_type": "stream",
     "text": [
      "100%|██████████| 1579/1579 [01:48<00:00, 14.58it/s]\n"
     ]
    },
    {
     "name": "stdout",
     "output_type": "stream",
     "text": [
      "Saving results in /home/mateo/code/beehaviour/data/video_compression/output...\n",
      "Starting to analyze %  /home/mateo/code/beehaviour/data/video_compression/input/hevc_nvenc.mp4\n",
      "Loading  /home/mateo/code/beehaviour/data/video_compression/input/hevc_nvenc.mp4\n",
      "Duration of video [s]:  13.1 , recorded with  120.0 fps!\n",
      "Overall # of frames:  1572  found with (before cropping) frame dimensions:  1280 720\n",
      "Starting to extract posture\n"
     ]
    },
    {
     "name": "stderr",
     "output_type": "stream",
     "text": [
      "100%|██████████| 1572/1572 [01:54<00:00, 13.72it/s]\n"
     ]
    },
    {
     "name": "stdout",
     "output_type": "stream",
     "text": [
      "Saving results in /home/mateo/code/beehaviour/data/video_compression/output...\n",
      "Starting to analyze %  /home/mateo/code/beehaviour/data/video_compression/input/mjpeg.mp4\n",
      "Loading  /home/mateo/code/beehaviour/data/video_compression/input/mjpeg.mp4\n",
      "Duration of video [s]:  0.0 , recorded with  1000000.0 fps!\n",
      "Overall # of frames:  1579  found with (before cropping) frame dimensions:  1280 720\n",
      "Starting to extract posture\n"
     ]
    },
    {
     "name": "stderr",
     "output_type": "stream",
     "text": [
      "100%|██████████| 1579/1579 [01:52<00:00, 14.03it/s]\n"
     ]
    },
    {
     "name": "stdout",
     "output_type": "stream",
     "text": [
      "Saving results in /home/mateo/code/beehaviour/data/video_compression/output...\n",
      "Starting to analyze %  /home/mateo/code/beehaviour/data/video_compression/input/h265.mp4\n",
      "Loading  /home/mateo/code/beehaviour/data/video_compression/input/h265.mp4\n",
      "Duration of video [s]:  13.1 , recorded with  120.0 fps!\n",
      "Overall # of frames:  1572  found with (before cropping) frame dimensions:  1280 720\n",
      "Starting to extract posture\n"
     ]
    },
    {
     "name": "stderr",
     "output_type": "stream",
     "text": [
      "100%|██████████| 1572/1572 [01:46<00:00, 14.78it/s]\n"
     ]
    },
    {
     "name": "stdout",
     "output_type": "stream",
     "text": [
      "Saving results in /home/mateo/code/beehaviour/data/video_compression/output...\n",
      "The videos are analyzed. Now your research can truly start! \n",
      " You can create labeled videos with 'create_labeled_video'\n",
      "If the tracking is not satisfactory for some videos, consider expanding the training set. You can use the function 'extract_outlier_frames' to extract a few representative outlier frames.\n",
      "Filtering with median model /home/mateo/code/beehaviour/data/video_compression/input/h264.mp4\n",
      "Filtering with median model /home/mateo/code/beehaviour/data/video_compression/input/hevc_nvenc.mp4\n",
      "Filtering with median model /home/mateo/code/beehaviour/data/video_compression/input/mjpeg.mp4\n",
      "Filtering with median model /home/mateo/code/beehaviour/data/video_compression/input/h265.mp4\n"
     ]
    }
   ],
   "source": [
    "videos = [str(v) for v in input_path.glob(\"*.mp4\")]\n",
    "# attempts video inference\n",
    "dlc.analyze_videos(\n",
    "    config=config_path,\n",
    "    videos= videos,\n",
    "    gputouse=0, save_as_csv=False,\n",
    "    destfolder=str(output_path),    \n",
    "    dynamic=(False, .5, 10)\n",
    ")\n",
    "\n",
    "# todo figure out is sarima filterring is a better option and how to use it.\n",
    "# remove low probability points\n",
    "dlc.filterpredictions(\n",
    "    config=config_path,\n",
    "    video=videos,\n",
    "    destfolder=str(output_path),\n",
    "    save_as_csv=False\n",
    ")"
   ],
   "metadata": {
    "collapsed": false,
    "ExecuteTime": {
     "end_time": "2024-02-22T04:46:02.526511361Z",
     "start_time": "2024-02-22T04:38:36.719383247Z"
    }
   },
   "id": "417b57255cb2fce6"
  },
  {
   "cell_type": "code",
   "execution_count": 17,
   "outputs": [
    {
     "name": "stdout",
     "output_type": "stream",
     "text": [
      "Starting to process video: /home/mateo/code/beehaviour/data/video_compression/input/h264.mp4Starting to process video: /home/mateo/code/beehaviour/data/video_compression/input/hevc_nvenc.mp4Starting to process video: /home/mateo/code/beehaviour/data/video_compression/input/mjpeg.mp4Starting to process video: /home/mateo/code/beehaviour/data/video_compression/input/h265.mp4\n",
      "\n",
      "Loading /home/mateo/code/beehaviour/data/video_compression/input/h265.mp4 and data.Loading /home/mateo/code/beehaviour/data/video_compression/input/h264.mp4 and data.Loading /home/mateo/code/beehaviour/data/video_compression/input/hevc_nvenc.mp4 and data.\n",
      "\n",
      "\n",
      "\n",
      "Loading /home/mateo/code/beehaviour/data/video_compression/input/mjpeg.mp4 and data.\n",
      "Labeled video already created. Skipping...Labeled video already created. Skipping...\n",
      "\n",
      "Duration of video [s]: 0.0, recorded with 1000000 fps!\n",
      "Overall # of frames: 1579 with cropped frame dimensions: 1280 720\n",
      "Generating frames and creating video.\n"
     ]
    },
    {
     "name": "stderr",
     "output_type": "stream",
     "text": [
      "  0%|          | 0/1579 [00:00<?, ?it/s]"
     ]
    },
    {
     "name": "stdout",
     "output_type": "stream",
     "text": [
      "Duration of video [s]: 0.0, recorded with 1000000 fps!\n",
      "Overall # of frames: 1579 with cropped frame dimensions: 1280 720\n",
      "Generating frames and creating video.\n"
     ]
    },
    {
     "name": "stderr",
     "output_type": "stream",
     "text": [
      "  1%|          | 8/1579 [00:00<00:21, 74.74it/s][mpeg4 @ 0x5e84687fb0c0] timebase 1/1000000 not supported by MPEG 4 standard, the maximum admitted value for the timebase denominator is 65535\n",
      "[ERROR:0@4989.652] global cap_ffmpeg_impl.hpp:3076 open Could not open codec mpeg4, error: Unspecified error (-22)\n",
      "[ERROR:0@4989.652] global cap_ffmpeg_impl.hpp:3093 open VIDEOIO/FFMPEG: Failed to initialize VideoWriter\n",
      "[mpeg4 @ 0x5e846c74f000] timebase 1/1000000 not supported by MPEG 4 standard, the maximum admitted value for the timebase denominator is 65535\n",
      "[ERROR:0@4989.668] global cap_ffmpeg_impl.hpp:3076 open Could not open codec mpeg4, error: Unspecified error (-22)\n",
      "[ERROR:0@4989.668] global cap_ffmpeg_impl.hpp:3093 open VIDEOIO/FFMPEG: Failed to initialize VideoWriter\n",
      "100%|██████████| 1579/1579 [00:14<00:00, 109.08it/s]\n",
      "100%|██████████| 1579/1579 [00:17<00:00, 89.79it/s] \n"
     ]
    },
    {
     "data": {
      "text/plain": "[True, None, True, None]"
     },
     "execution_count": 17,
     "metadata": {},
     "output_type": "execute_result"
    }
   ],
   "source": [
    "dlc.create_labeled_video(\n",
    "    config=config_path,\n",
    "    videos=videos,\n",
    "    save_frames=False, trailpoints=3,\n",
    "    draw_skeleton=True, skeleton_color='black',\n",
    "    filtered=True,\n",
    "    destfolder=str(output_path),\n",
    ")"
   ],
   "metadata": {
    "collapsed": false,
    "ExecuteTime": {
     "end_time": "2024-02-22T04:47:31.269001208Z",
     "start_time": "2024-02-22T04:47:13.223578531Z"
    }
   },
   "id": "f7df1c999646e45f"
  }
 ],
 "metadata": {
  "kernelspec": {
   "display_name": "Python 3",
   "language": "python",
   "name": "python3"
  },
  "language_info": {
   "codemirror_mode": {
    "name": "ipython",
    "version": 2
   },
   "file_extension": ".py",
   "mimetype": "text/x-python",
   "name": "python",
   "nbconvert_exporter": "python",
   "pygments_lexer": "ipython2",
   "version": "2.7.6"
  }
 },
 "nbformat": 4,
 "nbformat_minor": 5
}
