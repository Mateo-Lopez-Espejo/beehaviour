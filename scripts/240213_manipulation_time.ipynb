{
 "cells": [
  {
   "cell_type": "code",
   "execution_count": 1,
   "id": "initial_id",
   "metadata": {
    "collapsed": true,
    "ExecuteTime": {
     "end_time": "2024-02-21T04:32:57.319776127Z",
     "start_time": "2024-02-21T04:32:56.786259343Z"
    }
   },
   "outputs": [],
   "source": [
    "import pandas as pd\n",
    "%load_ext autoreload\n",
    "%autoreload 2"
   ]
  },
  {
   "cell_type": "code",
   "execution_count": 2,
   "outputs": [
    {
     "name": "stdout",
     "output_type": "stream",
     "text": [
      "Using CUDA\n",
      "GPU active: True\n",
      "GPU used: NVIDIA GeForce GTX 1070\n"
     ]
    }
   ],
   "source": [
    "from pathlib import Path\n",
    "\n",
    "import numpy as np\n",
    "\n",
    "import cv2 as cv\n",
    "import xarray as xr\n",
    "\n",
    "import plotly.express as px \n",
    "import plotly.graph_objects as go\n",
    "import scipy.stats as sst\n",
    "\n",
    "import my_paths as mp\n",
    "from src.loaders import get_motif_series"
   ],
   "metadata": {
    "collapsed": false,
    "ExecuteTime": {
     "end_time": "2024-02-21T04:33:07.806108273Z",
     "start_time": "2024-02-21T04:32:57.335219001Z"
    }
   },
   "id": "2a824ebf022125a8"
  },
  {
   "cell_type": "markdown",
   "source": [
    "# Manipulation time\n",
    "of flowers measured from the videos asociated to every visit\n",
    "\n",
    "what I need to do is a system to relate the visit table to the different videos in a folder\n",
    "\n",
    "I think that the visit table must have a date with it, including an start hour of aquisition, and an end hour\n",
    "\n",
    "then we can also add if the visit has an asociated recording and in which camera (future proofing for multiple camera\n",
    "simultaneous recordings, beecam_1)\n",
    "\n",
    "### syntetic data\n",
    "same as before but asociating the 6 analysed recordings with a specific flower"
   ],
   "metadata": {
    "collapsed": false
   },
   "id": "297a08f19d9ba485"
  },
  {
   "cell_type": "code",
   "execution_count": 3,
   "outputs": [
    {
     "data": {
      "text/plain": "        date  bee  id_flower     camera  color sinuosity direction\n0 2023-09-13    0          1       None  white    bend_1      left\n1 2023-09-13    3          3       None  white     zig_1      left\n2 2023-09-13    3          0  beecam_01   blue    bend_1     right\n3 2023-09-13    2          3       None  white     zig_1      left\n4 2023-09-13    2          2       None   blue     zig_1     right",
      "text/html": "<div>\n<style scoped>\n    .dataframe tbody tr th:only-of-type {\n        vertical-align: middle;\n    }\n\n    .dataframe tbody tr th {\n        vertical-align: top;\n    }\n\n    .dataframe thead th {\n        text-align: right;\n    }\n</style>\n<table border=\"1\" class=\"dataframe\">\n  <thead>\n    <tr style=\"text-align: right;\">\n      <th></th>\n      <th>date</th>\n      <th>bee</th>\n      <th>id_flower</th>\n      <th>camera</th>\n      <th>color</th>\n      <th>sinuosity</th>\n      <th>direction</th>\n    </tr>\n  </thead>\n  <tbody>\n    <tr>\n      <th>0</th>\n      <td>2023-09-13</td>\n      <td>0</td>\n      <td>1</td>\n      <td>None</td>\n      <td>white</td>\n      <td>bend_1</td>\n      <td>left</td>\n    </tr>\n    <tr>\n      <th>1</th>\n      <td>2023-09-13</td>\n      <td>3</td>\n      <td>3</td>\n      <td>None</td>\n      <td>white</td>\n      <td>zig_1</td>\n      <td>left</td>\n    </tr>\n    <tr>\n      <th>2</th>\n      <td>2023-09-13</td>\n      <td>3</td>\n      <td>0</td>\n      <td>beecam_01</td>\n      <td>blue</td>\n      <td>bend_1</td>\n      <td>right</td>\n    </tr>\n    <tr>\n      <th>3</th>\n      <td>2023-09-13</td>\n      <td>2</td>\n      <td>3</td>\n      <td>None</td>\n      <td>white</td>\n      <td>zig_1</td>\n      <td>left</td>\n    </tr>\n    <tr>\n      <th>4</th>\n      <td>2023-09-13</td>\n      <td>2</td>\n      <td>2</td>\n      <td>None</td>\n      <td>blue</td>\n      <td>zig_1</td>\n      <td>right</td>\n    </tr>\n  </tbody>\n</table>\n</div>"
     },
     "execution_count": 3,
     "metadata": {},
     "output_type": "execute_result"
    }
   ],
   "source": [
    "# todo think about the ontology of flowers\n",
    "#  for example, what to do with flower reward\n",
    "\n",
    "flower_df = pd.DataFrame([\n",
    "    {'id_flower': 0, 'color': 'blue', 'sinuosity': 'bend_1',\n",
    "     'direction': 'right'},\n",
    "    {'id_flower': 1, 'color': 'white', 'sinuosity': 'bend_1',\n",
    "     'direction': 'left'},\n",
    "    {'id_flower': 2, 'color': 'blue', 'sinuosity': 'zig_1',\n",
    "     'direction': 'right'},\n",
    "    {'id_flower': 3, 'color': 'white', 'sinuosity': 'zig_1',\n",
    "     'direction': 'left'}\n",
    "])\n",
    "\n",
    "# Creates the synthetic data frame similar to what it might look \n",
    "# when acquiring results from experiments.\n",
    "\n",
    "rng = np.random.default_rng(seed=42)\n",
    "n_bees = 5\n",
    "n_events = 300\n",
    "dates = [\"2023-09-13\"]\n",
    "date_repeat = n_events / len(dates)\n",
    "\n",
    "visit_df = pd.DataFrame(\n",
    "    {'date': np.repeat(dates, date_repeat).astype('datetime64'),\n",
    "     'bee': rng.choice(n_bees, n_events).astype('int'),\n",
    "     'id_flower': rng.choice(\n",
    "         flower_df.id_flower.unique().tolist(), n_events\n",
    "     ).astype(int)}\n",
    ")\n",
    "# add camera information, this might directly come from the loaded df\n",
    "id_cam = \"beecam_01\"\n",
    "flower_camera = {\n",
    "    0:id_cam,\n",
    "    1:None,\n",
    "    2:None,\n",
    "    3:None,\n",
    "}\n",
    "\n",
    "visit_df['camera'] = visit_df['id_flower'].apply(lambda x: flower_camera[x])\n",
    "# merge relevant data about flowers\n",
    "# care with how=\"left\" to preserve the order of the visit_df\n",
    "\n",
    "working_df = pd.merge(\n",
    "    left=visit_df, right=flower_df,\n",
    "    how='left', on='id_flower'\n",
    ")\n",
    "\n",
    "working_df.head()"
   ],
   "metadata": {
    "collapsed": false,
    "ExecuteTime": {
     "end_time": "2024-02-21T04:33:07.883401087Z",
     "start_time": "2024-02-21T04:33:07.813446451Z"
    }
   },
   "id": "89b1e53149e6e995"
  },
  {
   "cell_type": "code",
   "execution_count": 4,
   "outputs": [
    {
     "data": {
      "text/plain": "[PosixPath('/home/mateo/code/beehaviour/data/bottom_view-Feb20-2024/videos/2024-02-19T13:04:26_1.mp4'),\n PosixPath('/home/mateo/code/beehaviour/data/bottom_view-Feb20-2024/videos/2024-02-19T12:52:24_1.mp4'),\n PosixPath('/home/mateo/code/beehaviour/data/bottom_view-Feb20-2024/videos/2024-02-19T12:32:16_1.mp4'),\n PosixPath('/home/mateo/code/beehaviour/data/bottom_view-Feb20-2024/videos/2024-02-19T12:59:09_2.mp4'),\n PosixPath('/home/mateo/code/beehaviour/data/bottom_view-Feb20-2024/videos/2024-02-19T13:08:00_1.mp4'),\n PosixPath('/home/mateo/code/beehaviour/data/bottom_view-Feb20-2024/videos/2024-02-19T13:09:01_1.mp4'),\n PosixPath('/home/mateo/code/beehaviour/data/bottom_view-Feb20-2024/videos/2024-02-19T12:47:10_1.mp4'),\n PosixPath('/home/mateo/code/beehaviour/data/bottom_view-Feb20-2024/videos/2024-02-19T12:40:17_1.mp4'),\n PosixPath('/home/mateo/code/beehaviour/data/bottom_view-Feb20-2024/videos/2024-02-19T12:32:46_1.mp4'),\n PosixPath('/home/mateo/code/beehaviour/data/bottom_view-Feb20-2024/videos/2024-02-19T12:28:56_1.mp4'),\n PosixPath('/home/mateo/code/beehaviour/data/bottom_view-Feb20-2024/videos/2024-02-19T12:54:46_1.mp4'),\n PosixPath('/home/mateo/code/beehaviour/data/bottom_view-Feb20-2024/videos/2024-02-19T12:45:00_1.mp4'),\n PosixPath('/home/mateo/code/beehaviour/data/bottom_view-Feb20-2024/videos/2024-02-19T12:29:49_1.mp4'),\n PosixPath('/home/mateo/code/beehaviour/data/bottom_view-Feb20-2024/videos/2024-02-19T12:59:09_1.mp4'),\n PosixPath('/home/mateo/code/beehaviour/data/bottom_view-Feb20-2024/videos/2024-02-19T12:59:43_2.mp4'),\n PosixPath('/home/mateo/code/beehaviour/data/bottom_view-Feb20-2024/videos/2024-02-19T12:59:09_3.mp4'),\n PosixPath('/home/mateo/code/beehaviour/data/bottom_view-Feb20-2024/videos/2024-02-19T12:58:34_1.mp4'),\n PosixPath('/home/mateo/code/beehaviour/data/bottom_view-Feb20-2024/videos/2024-02-19T12:30:29_1.mp4'),\n PosixPath('/home/mateo/code/beehaviour/data/bottom_view-Feb20-2024/videos/2024-02-19T12:41:22_1.mp4'),\n PosixPath('/home/mateo/code/beehaviour/data/bottom_view-Feb20-2024/videos/2024-02-19T12:59:43_1.mp4'),\n PosixPath('/home/mateo/code/beehaviour/data/bottom_view-Feb20-2024/videos/2024-02-19T13:08:00_2.mp4'),\n PosixPath('/home/mateo/code/beehaviour/data/bottom_view-Feb20-2024/videos/2024-02-19T12:45:51_1.mp4'),\n PosixPath('/home/mateo/code/beehaviour/data/bottom_view-Feb20-2024/videos/2024-02-19T13:03:49_1.mp4'),\n PosixPath('/home/mateo/code/beehaviour/data/bottom_view-Feb20-2024/videos/2024-02-19T12:50:26_1.mp4'),\n PosixPath('/home/mateo/code/beehaviour/data/bottom_view-Feb20-2024/videos/2024-02-19T12:49:42_1.mp4'),\n PosixPath('/home/mateo/code/beehaviour/data/bottom_view-Feb20-2024/videos/2024-02-19T13:02:57_1.mp4'),\n PosixPath('/home/mateo/code/beehaviour/data/bottom_view-Feb20-2024/videos/2024-02-19T12:31:46_1.mp4'),\n PosixPath('/home/mateo/code/beehaviour/data/bottom_view-Feb20-2024/videos/2024-02-19T12:54:46_2.mp4'),\n PosixPath('/home/mateo/code/beehaviour/data/bottom_view-Feb20-2024/videos/2024-02-19T12:38:33_1.mp4')]"
     },
     "execution_count": 4,
     "metadata": {},
     "output_type": "execute_result"
    }
   ],
   "source": [
    "# access the folder with the camera, get the file names and put them in the right place in a new column\n",
    "vid_folder = mp.vame_path / \"videos\"\n",
    "list(vid_folder.glob(\"*.mp4\"))"
   ],
   "metadata": {
    "collapsed": false,
    "ExecuteTime": {
     "end_time": "2024-02-21T04:33:07.987757744Z",
     "start_time": "2024-02-21T04:33:07.880805044Z"
    }
   },
   "id": "11e65ffba5c0b3f"
  },
  {
   "cell_type": "code",
   "execution_count": 5,
   "outputs": [],
   "source": [
    "working_df['datum_name'] = np.nan\n",
    "for date in working_df.date.unique():\n",
    "    # lists the data with that date and sorts ascending\n",
    "    # the file extnsion might change...\n",
    "    # pat = f\"{str(date).split('T')[0]}T*.mp4\"\n",
    "    \n",
    "    # todo delete: temporary pattern for legacy filenames\n",
    "    day = ''.join(str(date).split('T')[0].split('-'))\n",
    "    pat = f\"*-*-{day}*.mp4\"\n",
    "    \n",
    "    \n",
    "    data_names = [file.stem for file in  vid_folder.glob(pat)]\n",
    "    data_names.sort()\n",
    "    \n",
    "    # filters df to get the rows to wich asign videos\n",
    "    filtered = working_df.query(f\"date == '{date}' and camera == '{id_cam}'\")\n",
    "    \n",
    "    # todo delete: temporally for the synth data matches the table number to the available data/videos\n",
    "    if True:\n",
    "        filtered = filtered.iloc[:len(data_names),:]\n",
    "\n",
    "\n",
    "    if len(data_names) > filtered.shape[0]:\n",
    "         raise ValueError(f\"there is {len(data_names) - filtered.shape[0]} more videos than table registries\")\n",
    "    elif len(data_names) < filtered.shape[0]:\n",
    "         raise ValueError(f\"there is {filtered.shape[0] - len(data_names)} more table registries than videos\")\n",
    "    \n",
    "    # used the \"preserved\" index to change the original dataframe\n",
    "    working_df.loc[filtered.index, 'datum_name'] = data_names\n"
   ],
   "metadata": {
    "collapsed": false,
    "ExecuteTime": {
     "end_time": "2024-02-21T04:33:08.034625071Z",
     "start_time": "2024-02-21T04:33:07.947588394Z"
    }
   },
   "id": "fdae87ddd0483903"
  },
  {
   "cell_type": "code",
   "execution_count": 6,
   "outputs": [],
   "source": [
    "# based on the dataframe now tries to loade a bunch of time series\n",
    "\n",
    "motif_series = get_motif_series(\n",
    "working_df.loc[pd.notna(working_df.datum_name),'datum_name'].values\n",
    ")"
   ],
   "metadata": {
    "collapsed": false,
    "ExecuteTime": {
     "end_time": "2024-02-21T04:33:08.130363599Z",
     "start_time": "2024-02-21T04:33:08.013976011Z"
    }
   },
   "id": "4b0aef3a09021e1d"
  },
  {
   "cell_type": "code",
   "execution_count": 7,
   "outputs": [
    {
     "data": {
      "text/plain": "[]"
     },
     "execution_count": 7,
     "metadata": {},
     "output_type": "execute_result"
    }
   ],
   "source": [
    "motif_series"
   ],
   "metadata": {
    "collapsed": false,
    "ExecuteTime": {
     "end_time": "2024-02-21T04:33:08.205717326Z",
     "start_time": "2024-02-21T04:33:08.139713314Z"
    }
   },
   "id": "46d657fedde44d34"
  },
  {
   "cell_type": "markdown",
   "source": [
    "# split data \n",
    "\n",
    "It was unwise to not add a flower name to the video files, therefore I need to add that here somehow.\n",
    "\n",
    "Fortunately, when I acquired data, the flowers were used sequentially in time, first the left turning, then the right\n",
    "turning. Asigning directions is as easy as finding the first video where I switched flowers."
   ],
   "metadata": {
    "collapsed": false
   },
   "id": "b2d57ac511072e84"
  },
  {
   "cell_type": "code",
   "execution_count": 32,
   "outputs": [
    {
     "data": {
      "text/plain": "                    datum   flower_type\n0   2024-02-19T12:28:56_1   zig_02_left\n1   2024-02-19T12:29:49_1   zig_02_left\n2   2024-02-19T12:30:29_1   zig_02_left\n3   2024-02-19T12:31:46_1   zig_02_left\n4   2024-02-19T12:32:16_1   zig_02_left\n5   2024-02-19T12:32:46_1   zig_02_left\n6   2024-02-19T12:38:33_1  zig_02_right\n7   2024-02-19T12:40:17_1  zig_02_right\n8   2024-02-19T12:41:22_1  zig_02_right\n9   2024-02-19T12:45:00_1  zig_02_right\n10  2024-02-19T12:45:51_1  zig_02_right\n11  2024-02-19T12:47:10_1  zig_02_right\n12  2024-02-19T12:49:42_1  zig_02_right\n13  2024-02-19T12:50:26_1  zig_02_right\n14  2024-02-19T12:52:24_1  zig_02_right\n15  2024-02-19T12:54:46_1  zig_02_right\n16  2024-02-19T12:54:46_2  zig_02_right\n17  2024-02-19T12:58:34_1  zig_02_right\n18  2024-02-19T12:59:09_1  zig_02_right\n19  2024-02-19T12:59:09_2  zig_02_right\n20  2024-02-19T12:59:09_3  zig_02_right\n21  2024-02-19T12:59:43_1  zig_02_right\n22  2024-02-19T12:59:43_2  zig_02_right\n23  2024-02-19T13:02:57_1  zig_02_right\n24  2024-02-19T13:03:49_1  zig_02_right\n25  2024-02-19T13:04:26_1  zig_02_right\n26  2024-02-19T13:08:00_1  zig_02_right\n27  2024-02-19T13:08:00_2  zig_02_right\n28  2024-02-19T13:09:01_1  zig_02_right",
      "text/html": "<div>\n<style scoped>\n    .dataframe tbody tr th:only-of-type {\n        vertical-align: middle;\n    }\n\n    .dataframe tbody tr th {\n        vertical-align: top;\n    }\n\n    .dataframe thead th {\n        text-align: right;\n    }\n</style>\n<table border=\"1\" class=\"dataframe\">\n  <thead>\n    <tr style=\"text-align: right;\">\n      <th></th>\n      <th>datum</th>\n      <th>flower_type</th>\n    </tr>\n  </thead>\n  <tbody>\n    <tr>\n      <th>0</th>\n      <td>2024-02-19T12:28:56_1</td>\n      <td>zig_02_left</td>\n    </tr>\n    <tr>\n      <th>1</th>\n      <td>2024-02-19T12:29:49_1</td>\n      <td>zig_02_left</td>\n    </tr>\n    <tr>\n      <th>2</th>\n      <td>2024-02-19T12:30:29_1</td>\n      <td>zig_02_left</td>\n    </tr>\n    <tr>\n      <th>3</th>\n      <td>2024-02-19T12:31:46_1</td>\n      <td>zig_02_left</td>\n    </tr>\n    <tr>\n      <th>4</th>\n      <td>2024-02-19T12:32:16_1</td>\n      <td>zig_02_left</td>\n    </tr>\n    <tr>\n      <th>5</th>\n      <td>2024-02-19T12:32:46_1</td>\n      <td>zig_02_left</td>\n    </tr>\n    <tr>\n      <th>6</th>\n      <td>2024-02-19T12:38:33_1</td>\n      <td>zig_02_right</td>\n    </tr>\n    <tr>\n      <th>7</th>\n      <td>2024-02-19T12:40:17_1</td>\n      <td>zig_02_right</td>\n    </tr>\n    <tr>\n      <th>8</th>\n      <td>2024-02-19T12:41:22_1</td>\n      <td>zig_02_right</td>\n    </tr>\n    <tr>\n      <th>9</th>\n      <td>2024-02-19T12:45:00_1</td>\n      <td>zig_02_right</td>\n    </tr>\n    <tr>\n      <th>10</th>\n      <td>2024-02-19T12:45:51_1</td>\n      <td>zig_02_right</td>\n    </tr>\n    <tr>\n      <th>11</th>\n      <td>2024-02-19T12:47:10_1</td>\n      <td>zig_02_right</td>\n    </tr>\n    <tr>\n      <th>12</th>\n      <td>2024-02-19T12:49:42_1</td>\n      <td>zig_02_right</td>\n    </tr>\n    <tr>\n      <th>13</th>\n      <td>2024-02-19T12:50:26_1</td>\n      <td>zig_02_right</td>\n    </tr>\n    <tr>\n      <th>14</th>\n      <td>2024-02-19T12:52:24_1</td>\n      <td>zig_02_right</td>\n    </tr>\n    <tr>\n      <th>15</th>\n      <td>2024-02-19T12:54:46_1</td>\n      <td>zig_02_right</td>\n    </tr>\n    <tr>\n      <th>16</th>\n      <td>2024-02-19T12:54:46_2</td>\n      <td>zig_02_right</td>\n    </tr>\n    <tr>\n      <th>17</th>\n      <td>2024-02-19T12:58:34_1</td>\n      <td>zig_02_right</td>\n    </tr>\n    <tr>\n      <th>18</th>\n      <td>2024-02-19T12:59:09_1</td>\n      <td>zig_02_right</td>\n    </tr>\n    <tr>\n      <th>19</th>\n      <td>2024-02-19T12:59:09_2</td>\n      <td>zig_02_right</td>\n    </tr>\n    <tr>\n      <th>20</th>\n      <td>2024-02-19T12:59:09_3</td>\n      <td>zig_02_right</td>\n    </tr>\n    <tr>\n      <th>21</th>\n      <td>2024-02-19T12:59:43_1</td>\n      <td>zig_02_right</td>\n    </tr>\n    <tr>\n      <th>22</th>\n      <td>2024-02-19T12:59:43_2</td>\n      <td>zig_02_right</td>\n    </tr>\n    <tr>\n      <th>23</th>\n      <td>2024-02-19T13:02:57_1</td>\n      <td>zig_02_right</td>\n    </tr>\n    <tr>\n      <th>24</th>\n      <td>2024-02-19T13:03:49_1</td>\n      <td>zig_02_right</td>\n    </tr>\n    <tr>\n      <th>25</th>\n      <td>2024-02-19T13:04:26_1</td>\n      <td>zig_02_right</td>\n    </tr>\n    <tr>\n      <th>26</th>\n      <td>2024-02-19T13:08:00_1</td>\n      <td>zig_02_right</td>\n    </tr>\n    <tr>\n      <th>27</th>\n      <td>2024-02-19T13:08:00_2</td>\n      <td>zig_02_right</td>\n    </tr>\n    <tr>\n      <th>28</th>\n      <td>2024-02-19T13:09:01_1</td>\n      <td>zig_02_right</td>\n    </tr>\n  </tbody>\n</table>\n</div>"
     },
     "execution_count": 32,
     "metadata": {},
     "output_type": "execute_result"
    }
   ],
   "source": [
    "videos = np.sort(\n",
    "    np.asarray([v.stem for v in  vid_folder.glob(\"*.mp4\")])\n",
    ")\n",
    "\n",
    "right_start = '2024-02-19T12:38:33_1'\n",
    "\n",
    "direction = np.empty_like(videos)\n",
    "direction[:np.argwhere(videos == right_start)[0,0]] = 'zig_02_left'\n",
    "direction[np.argwhere(videos == right_start)[0,0]:] = 'zig_02_right'\n",
    "\n",
    "side_df = pd.DataFrame(\n",
    "    data = [videos, direction] , index= ['datum', 'flower_type']\n",
    ").T\n",
    "\n",
    "side_df"
   ],
   "metadata": {
    "collapsed": false,
    "ExecuteTime": {
     "end_time": "2024-02-21T04:57:56.789273061Z",
     "start_time": "2024-02-21T04:57:56.716850591Z"
    }
   },
   "id": "fb38396a90dbce3c"
  }
 ],
 "metadata": {
  "kernelspec": {
   "display_name": "Python 3",
   "language": "python",
   "name": "python3"
  },
  "language_info": {
   "codemirror_mode": {
    "name": "ipython",
    "version": 2
   },
   "file_extension": ".py",
   "mimetype": "text/x-python",
   "name": "python",
   "nbconvert_exporter": "python",
   "pygments_lexer": "ipython2",
   "version": "2.7.6"
  }
 },
 "nbformat": 4,
 "nbformat_minor": 5
}
